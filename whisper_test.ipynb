{
  "nbformat": 4,
  "nbformat_minor": 0,
  "metadata": {
    "colab": {
      "provenance": [],
      "gpuType": "T4",
      "include_colab_link": true
    },
    "kernelspec": {
      "name": "python3",
      "display_name": "Python 3"
    },
    "language_info": {
      "name": "python"
    },
    "accelerator": "GPU"
  },
  "cells": [
    {
      "cell_type": "markdown",
      "metadata": {
        "id": "view-in-github",
        "colab_type": "text"
      },
      "source": [
        "<a href=\"https://colab.research.google.com/github/maxseats/2023_data_public/blob/main/whisper_test.ipynb\" target=\"_parent\"><img src=\"https://colab.research.google.com/assets/colab-badge.svg\" alt=\"Open In Colab\"/></a>"
      ]
    },
    {
      "cell_type": "markdown",
      "source": [
        "# 모델 테스트 해보기\n",
        "- 데이터셋 불러와서 평가지표(CER, WER)로 모델 점수 출력\n",
        "- 파일로 저장\n",
        "    - total.json : 모델 전체 평가\n",
        "    - 각 모델 폴더 : 해당 모델 평가 과정 로그 기록"
      ],
      "metadata": {
        "id": "4xm6QMSRFGU6"
      }
    },
    {
      "cell_type": "markdown",
      "source": [
        "## 필요 라이브러리 설치 및 import"
      ],
      "metadata": {
        "id": "o0cmw5xUNy0h"
      }
    },
    {
      "cell_type": "code",
      "source": [
        "from google.colab import drive\n",
        "\n",
        "# 구글드라이브 마운트\n",
        "drive.mount('/content/drive')\n",
        "\n",
        "!pip install nlptutti\n",
        "\n",
        "import nlptutti as metrics\n",
        "from transformers import pipeline\n",
        "import json\n",
        "import os"
      ],
      "metadata": {
        "id": "jpzhdqRaFP36",
        "colab": {
          "base_uri": "https://localhost:8080/"
        },
        "outputId": "1147701b-dc87-4bb2-ce49-e39694dad83d"
      },
      "execution_count": null,
      "outputs": [
        {
          "output_type": "stream",
          "name": "stdout",
          "text": [
            "Drive already mounted at /content/drive; to attempt to forcibly remount, call drive.mount(\"/content/drive\", force_remount=True).\n",
            "Requirement already satisfied: nlptutti in /usr/local/lib/python3.10/dist-packages (0.0.0.8)\n",
            "Requirement already satisfied: pandas in /usr/local/lib/python3.10/dist-packages (from nlptutti) (2.0.3)\n",
            "Requirement already satisfied: jiwer in /usr/local/lib/python3.10/dist-packages (from nlptutti) (3.0.4)\n",
            "Requirement already satisfied: click<9.0.0,>=8.1.3 in /usr/local/lib/python3.10/dist-packages (from jiwer->nlptutti) (8.1.7)\n",
            "Requirement already satisfied: rapidfuzz<4,>=3 in /usr/local/lib/python3.10/dist-packages (from jiwer->nlptutti) (3.9.1)\n",
            "Requirement already satisfied: python-dateutil>=2.8.2 in /usr/local/lib/python3.10/dist-packages (from pandas->nlptutti) (2.8.2)\n",
            "Requirement already satisfied: pytz>=2020.1 in /usr/local/lib/python3.10/dist-packages (from pandas->nlptutti) (2023.4)\n",
            "Requirement already satisfied: tzdata>=2022.1 in /usr/local/lib/python3.10/dist-packages (from pandas->nlptutti) (2024.1)\n",
            "Requirement already satisfied: numpy>=1.21.0 in /usr/local/lib/python3.10/dist-packages (from pandas->nlptutti) (1.25.2)\n",
            "Requirement already satisfied: six>=1.5 in /usr/local/lib/python3.10/dist-packages (from python-dateutil>=2.8.2->pandas->nlptutti) (1.16.0)\n"
          ]
        }
      ]
    },
    {
      "cell_type": "markdown",
      "source": [
        "## 사용자 설정 변수"
      ],
      "metadata": {
        "id": "lRRF0uYENr91"
      }
    },
    {
      "cell_type": "code",
      "source": [
        "#----- 모델 이름 설정 -----\n",
        "\n",
        "# model_name = \"openai/whisper-large-v3\"\n",
        "\n",
        "model_name = \"openai/whisper-large-v3\"\n",
        "model_name = \"SungBeom/whisper-small-ko\"\n",
        "model_name = \"seastar105/whisper-medium-ko-zeroth\"\n",
        "\n",
        "model_names = [\"SungBeom/whisper-small-ko\", \"openai/whisper-large-v3\", \"seastar105/whisper-medium-ko-zeroth\"]\n",
        "\n",
        "#----- 모델 이름 설정 -----\n",
        "\n",
        "\n",
        "data_num = 75   # 데이터 개수\n",
        "data_directory = \"/content/drive/MyDrive/STT_test/discord_dataset\" # 데이터셋 폴더\n",
        "test_log_path = \"/content/drive/MyDrive/STT_test/test_log\"    # 테스트 결과 및 로그 저장위치"
      ],
      "metadata": {
        "id": "XBLV2nyUNvrZ"
      },
      "execution_count": null,
      "outputs": []
    },
    {
      "cell_type": "markdown",
      "source": [
        "## 테스트 시작"
      ],
      "metadata": {
        "id": "VJ3Qv66kAAKQ"
      }
    },
    {
      "cell_type": "code",
      "source": [
        "# 평균 계산용\n",
        "CER_total = 0.0\n",
        "WER_total = 0.0\n",
        "\n",
        "# 모델 별 테스트 파이프라인 실행\n",
        "for model_name in model_names:\n",
        "\n",
        "    start_time = time.time()    # 시작 시간 기록\n",
        "\n",
        "    # 모델 폴더 생성 및 로그파일 폴더 지정\n",
        "    #model_log_dir = test_log_path + \"/\" + model_name\n",
        "    model_log_dir = os.path.join(test_log_path, model_name)\n",
        "    os.makedirs(model_log_dir, exist_ok=True)\n",
        "    log_file_path = os.path.join(model_log_dir, \"log.txt\")\n",
        "\n",
        "\n",
        "    with open(log_file_path, 'w', encoding='utf-8') as log_file:\n",
        "\n",
        "        pipe = pipeline(\"automatic-speech-recognition\", model=model_name)   # STT 파이프라인\n",
        "\n",
        "        for ii in range(data_num):\n",
        "\n",
        "            i=ii+1   # 현재 파일 번호\n",
        "            print(i, \"번째 데이터:\")\n",
        "            log_file.write(f\"{i} 번째 데이터:\\n\")\n",
        "\n",
        "            sample = data_directory + \"/\" + \"{:03d}\".format(i) + \".mp3\"    # 음성파일 경로\n",
        "\n",
        "            result = pipe(sample, return_timestamps=False)\n",
        "\n",
        "\n",
        "            preds = result[\"text\"]  # STT 예측 문자열\n",
        "            target_path = data_directory + \"/\" + \"{:03d}\".format(i) + \".txt\" # 텍스트파일 경로\n",
        "\n",
        "\n",
        "            # 파일 열기\n",
        "            with open(target_path, 'r', encoding='utf-8') as file:\n",
        "                # 파일 내용 읽기\n",
        "                target = file.read()\n",
        "\n",
        "            print(\"예측 : \", result[\"text\"])\n",
        "            print(\"정답 : \", target)\n",
        "            log_file.write(f\"예측 : {preds}\\n\")\n",
        "            log_file.write(f\"정답 : {target}\\n\")\n",
        "\n",
        "            # CER 출력\n",
        "            cer_result = metrics.get_cer(target, preds)\n",
        "\n",
        "            cer_substitutions = cer_result['substitutions']\n",
        "            cer_deletions = cer_result['deletions']\n",
        "            cer_insertions = cer_result['insertions']\n",
        "            # prints: [cer, substitutions, deletions, insertions] -> [CER = 0 / 34, S = 0, D = 0, I = 0]\n",
        "            CER_total += cer_result['cer']\n",
        "            print(\"CER, S, D, I : \", cer_result['cer'], cer_substitutions, cer_deletions, cer_insertions)\n",
        "            log_file.write(f\"CER, S, D, I : {cer_result['cer']}, {cer_substitutions}, {cer_deletions}, {cer_insertions}\\n\")\n",
        "\n",
        "\n",
        "            # WER 출력\n",
        "            wer_result = metrics.get_wer(target, preds)\n",
        "\n",
        "            wer_substitutions = wer_result['substitutions']\n",
        "            wer_deletions = wer_result['deletions']\n",
        "            wer_insertions = wer_result['insertions']\n",
        "            # prints: [wer, substitutions, deletions, insertions] -> [WER =  2 / 4, S = 1, D = 1, I = 0]\n",
        "            WER_total += wer_result['wer']\n",
        "            print(\"WER, S, D, I : \", wer_result['wer'], wer_substitutions, wer_deletions, wer_insertions)\n",
        "            print()\n",
        "            log_file.write(f\"WER, S, D, I : {wer_result['wer']}, {wer_substitutions}, {wer_deletions}, {wer_insertions}\\n\\n\")\n",
        "\n",
        "\n",
        "    end_time = time.time()  # 종료 시간 기록\n",
        "    elapsed_time = end_time - start_time    # 실행 시간\n",
        "\n",
        "    # 시간, 분, 초 단위로 변환\n",
        "    hours = int(elapsed_time // 3600)\n",
        "    minutes = int((elapsed_time % 3600) // 60)\n",
        "    seconds = int(elapsed_time % 60)\n",
        "\n",
        "\n",
        "    print(\"현재 모델 : \", model_name)\n",
        "    print(\"CER 평균 : \", CER_total / data_num)\n",
        "    print(\"WER 평균 : \", WER_total / data_num)\n",
        "    print(\"실행시간 : \", \"{:02d}시간 {:02d}분 {:02d}초\".format(hours, minutes, seconds))\n",
        "\n",
        "    # 데이터 딕셔너리 생성\n",
        "    data = {\n",
        "        \"model_name\": model_name,\n",
        "        \"CER_mean\": CER_total / data_num,\n",
        "        \"WER_mean\": WER_total / data_num\n",
        "        \"running_time\" : \"{:02d}:{:02d}:{:02d}\".format(hours, minutes, seconds)\n",
        "    }\n",
        "\n",
        "    # JSON 파일에 저장(내용 추가)\n",
        "    with open(test_log_path + \"/total_result.json\", \"a\", encoding=\"utf-8\") as file:\n",
        "        json.dump(data, file, ensure_ascii=False, indent=4)\n"
      ],
      "metadata": {
        "id": "G9KFOg0PB-yV"
      },
      "execution_count": null,
      "outputs": []
    }
  ]
}